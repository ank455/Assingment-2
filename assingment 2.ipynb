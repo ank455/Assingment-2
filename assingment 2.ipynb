{
 "cells": [
  {
   "cell_type": "code",
   "execution_count": 1,
   "id": "72169f51-f569-4701-9111-2dae1f3698f6",
   "metadata": {},
   "outputs": [
    {
     "name": "stdin",
     "output_type": "stream",
     "text": [
      "enter your marks  90\n"
     ]
    },
    {
     "name": "stdout",
     "output_type": "stream",
     "text": [
      "Grade B\n"
     ]
    }
   ],
   "source": [
    "marks = int(input(\"enter your marks \"))\n",
    "if marks > 90 : \n",
    "    print(\"Grade A\")\n",
    "elif marks > 80 and marks <=90 :\n",
    "    print(\"Grade B\")\n",
    "elif marks >= 60 and marks <=80 :\n",
    "    print(\"Grade C\")\n",
    "elif marks  <60:\n",
    "    print(\"Grade D\")\n",
    "    "
   ]
  },
  {
   "cell_type": "code",
   "execution_count": 2,
   "id": "b7a8efc2-4ed2-428e-a513-48aa19d66355",
   "metadata": {},
   "outputs": [
    {
     "name": "stdin",
     "output_type": "stream",
     "text": [
      "enter your cost price  100000\n"
     ]
    },
    {
     "name": "stdout",
     "output_type": "stream",
     "text": [
      "tax 10%\n"
     ]
    }
   ],
   "source": [
    "cost = int(input(\"enter your cost price \"))\n",
    "if cost  > 100000:\n",
    "    print(\"tax 15%\")\n",
    "elif cost  >50000 and cost <= 100000:\n",
    "    print(\"tax 10%\")\n",
    "elif cost  <= 50000:\n",
    "    print(\"tax 5%\")\n"
   ]
  },
  {
   "cell_type": "code",
   "execution_count": 3,
   "id": "2fba9526-2a86-4a86-91be-3dbecfa5b2ab",
   "metadata": {},
   "outputs": [
    {
     "name": "stdin",
     "output_type": "stream",
     "text": [
      "Enter a city  jaipur\n"
     ]
    },
    {
     "name": "stdout",
     "output_type": "stream",
     "text": [
      "Jal Mahal\n"
     ]
    }
   ],
   "source": [
    "city = input(\"Enter a city \")\n",
    "\n",
    "if city.upper() == \"DELHI\":\n",
    "   print(\"Red Fort\")\n",
    "elif city.upper() == \"AGRA\":\n",
    "      print(\"Taj Mahal\")\n",
    "elif city.upper() == \"JAIPUR\":\n",
    "      print(\"Jal Mahal\")\n",
    "else : \n",
    "    print(\"Enter a valid city\")"
   ]
  },
  {
   "cell_type": "code",
   "execution_count": 4,
   "id": "87811850-73b3-423c-a8bd-ad6c930d21fd",
   "metadata": {},
   "outputs": [
    {
     "data": {
      "text/plain": [
       "4"
      ]
     },
     "execution_count": 4,
     "metadata": {},
     "output_type": "execute_result"
    }
   ],
   "source": [
    "\n",
    "def count_divisible_by_3(num):\n",
    "    count = 0\n",
    "    while num > 10 and num % 3 == 0:\n",
    "        num //= 3\n",
    "        count += 1\n",
    "    return count\n",
    "count_divisible_by_3(729)\n",
    "\n"
   ]
  },
  {
   "cell_type": "code",
   "execution_count": null,
   "id": "fde479e7-c8c8-4b0b-8c21-25efbe1d1abb",
   "metadata": {},
   "outputs": [],
   "source": [
    "# While Loop definaation \n",
    "# ans 4\n",
    "Python while loop is used to run a block code until a certain condition is met.\n",
    "\n",
    "The syntax of while loop is:\n",
    "\n",
    "Here,\n",
    "\n",
    "(1)A while loop evaluates the condition\n",
    "(2)If the condition evaluates to True, the code inside the while loop is executed.\n",
    "(3)condition is evaluated again.\n",
    "(4)This process continues until the condition is False.\n",
    "(5)When condition evaluates to False, the loop stops.\n"
   ]
  },
  {
   "cell_type": "code",
   "execution_count": 6,
   "id": "7cdfbdee-1a45-4207-a4a8-edfd5b158fc8",
   "metadata": {},
   "outputs": [
    {
     "name": "stdout",
     "output_type": "stream",
     "text": [
      "5\n",
      "6\n",
      "7\n"
     ]
    }
   ],
   "source": [
    "\n",
    "'Example of python while loop'\n",
    "\n",
    "i = 5\n",
    "n = 7\n",
    "while i <= n:\n",
    "    print(i)\n",
    "    i = i+1"
   ]
  },
  {
   "cell_type": "code",
   "execution_count": 7,
   "id": "512a1bf5-768c-4a72-9774-a50e07c2111a",
   "metadata": {},
   "outputs": [
    {
     "name": "stdin",
     "output_type": "stream",
     "text": [
      "Enter number of rows :  5\n"
     ]
    },
    {
     "name": "stdout",
     "output_type": "stream",
     "text": [
      "pwkills \n",
      "pwkills pwkills \n",
      "pwkills pwkills pwkills \n",
      "pwkills pwkills pwkills pwkills \n",
      "pwkills pwkills pwkills pwkills pwkills \n"
     ]
    }
   ],
   "source": [
    "n = int(input('Enter number of rows : '))\n",
    " \n",
    "i = 1\n",
    "while i <= n :\n",
    "    j = 1\n",
    "    while j <= i:\n",
    "        print(\"pwkills\", end = \" \")\n",
    "        j += 1\n",
    "    print()\n",
    "    i += 1\n"
   ]
  },
  {
   "cell_type": "code",
   "execution_count": 8,
   "id": "c2be96e1-2335-43c0-8f12-91b2a2d37353",
   "metadata": {},
   "outputs": [
    {
     "name": "stdout",
     "output_type": "stream",
     "text": [
      "10\n",
      "9\n",
      "8\n",
      "7\n",
      "6\n",
      "5\n",
      "4\n",
      "3\n",
      "2\n",
      "1\n"
     ]
    }
   ],
   "source": [
    "i = 10\n",
    "while i > 0:\n",
    "    print(i)\n",
    "    i = i - 1"
   ]
  },
  {
   "cell_type": "code",
   "execution_count": 9,
   "id": "96877a40-523c-4fbd-a883-866df80f1687",
   "metadata": {},
   "outputs": [
    {
     "name": "stdout",
     "output_type": "stream",
     "text": [
      "10\n",
      "9\n",
      "8\n",
      "7\n",
      "6\n",
      "5\n",
      "4\n",
      "3\n",
      "2\n",
      "1\n"
     ]
    }
   ],
   "source": [
    "i = 10\n",
    "while i > 0:\n",
    "    print(i)\n",
    "    i = i - 1"
   ]
  },
  {
   "cell_type": "code",
   "execution_count": null,
   "id": "89810710-976c-4d3e-9362-bf45f3acf95c",
   "metadata": {},
   "outputs": [],
   "source": []
  }
 ],
 "metadata": {
  "kernelspec": {
   "display_name": "Python 3 (ipykernel)",
   "language": "python",
   "name": "python3"
  },
  "language_info": {
   "codemirror_mode": {
    "name": "ipython",
    "version": 3
   },
   "file_extension": ".py",
   "mimetype": "text/x-python",
   "name": "python",
   "nbconvert_exporter": "python",
   "pygments_lexer": "ipython3",
   "version": "3.10.8"
  }
 },
 "nbformat": 4,
 "nbformat_minor": 5
}
